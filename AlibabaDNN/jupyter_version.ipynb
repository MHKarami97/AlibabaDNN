{
 "cells": [
  {
   "cell_type": "code",
   "execution_count": null,
   "metadata": {},
   "outputs": [],
   "source": [
    "def ReadFile(status):\n",
    "\tglobal witchFile\n",
    "\n",
    "\tif status == 1:\n",
    "\t\tdata = pd.read_csv('Data/train.csv', sep=',', low_memory=0, usecols=[1, 2, 3, 4, 5, 7], nrows=100)\n",
    "\n",
    "\t\tnewData = pd.DataFrame(data)\n",
    "\t\tnewData['newColumn'] = 0\n",
    "\t\tnewData.to_csv('Data/train1.csv')\n",
    "\t\t\t\t\t\t\n",
    "\t\twitchFile = 'Data/train1'\n",
    "\n",
    "\t\treturn newData,newData.groupby(['Log_Date', 'FROM', 'TO']).size()\n",
    "\telse:\n",
    "\t\tdata = pd.read_csv('Data/test.csv', sep=',', low_memory=0, usecols=[1, 2, 3, 4, 5, 7], nrows=100)\n",
    "\n",
    "\t\tnewData = pd.DataFrame(data)\n",
    "\t\tnewData['newColumn'] = 0\n",
    "\t\tnewData.to_csv('Data/test1.csv')\n",
    "\n",
    "\t\twitchFile = 'Data/test1.csv'\n",
    "\n",
    "\t\treturn newData,newData.groupby(['Log_Date', 'FROM', 'TO']).size()"
   ]
  },
  {
   "cell_type": "markdown",
   "metadata": {},
   "source": [
    "This method is for read csv file \n",
    "(status) is to know witch file we want to read (train / test)\n",
    "after that we add new column to csv to add -- in feature"
   ]
  },
  {
   "cell_type": "code",
   "execution_count": null,
   "metadata": {},
   "outputs": [],
   "source": [
    "def WriteToCSV(csv,row,column,value):\n",
    "\tcsv.at[row, column] = value\n",
    "\tcsv.to_csv(witchFile + '.csv', index=False)"
   ]
  },
  {
   "cell_type": "markdown",
   "metadata": {},
   "source": [
    "this method use to write value that we want (in this project --) to new csv that create in past code block"
   ]
  },
  {
   "cell_type": "code",
   "execution_count": null,
   "metadata": {},
   "outputs": [],
   "source": [
    "def preprocess(train_data,train_label_values):\n",
    "    global temp\n",
    "    \n",
    "    train_label_titles = train_label_values.index.values\n",
    "    \n",
    "    dic = {}\n",
    "    for j in range(0, len(train_label_values)):\n",
    "        dic.__setitem__(train_label_titles[j], train_label_values[j])    \n",
    "\n",
    "    train_data = deepcopy(train_data.values)\n",
    "    train_label_values = deepcopy(train_label_values.values)\n",
    "\n",
    "    i = 0\n",
    "    counter = []    \n",
    "    train_label = []\n",
    "    temp = np.resize(train_data, (6000, 9))\n",
    "\n",
    "    for td in train_data:\n",
    "        label = (td[0], td[2], td[3])\n",
    "        train_label.append(dic[label])\n",
    "        date = jdatetime.datetime.strptime(td[0], \"%Y/%m/%d\")\n",
    "\n",
    "        d = date.day\n",
    "        m = date.strftime(\"%m\")\n",
    "        w = date.weekday()\n",
    "        s = (int(m) % 12 + 3) // 3\n",
    "\n",
    "        temp[i][0] = d\n",
    "        temp[i][1] = int(m)\n",
    "        temp[i][2] = w\n",
    "        temp[i][3] = s\n",
    "        temp[i][4] = td[1]\n",
    "        temp[i][5] = td[2]\n",
    "        temp[i][6] = td[3]\n",
    "        temp[i][7] = td[4]\n",
    "        temp[i][8] = td[5]\n",
    "\n",
    "        i += 1\n",
    "\n",
    "    # train_label = keras.utils.to_categorical(train_label_values, 1)\n",
    "    # test_label = keras.utils.to_categorical(test_label, 10)\n",
    "    train_label = np.array(train_label)\n",
    "    train_label = train_label.astype('float32')\n",
    "\n",
    "    if i!=100:\n",
    "        temp = temp.astype('float32')\n",
    "\n",
    "    return temp, train_label"
   ]
  }
 ],
 "metadata": {
  "kernelspec": {
   "display_name": "Python 3",
   "language": "python",
   "name": "python3"
  },
  "language_info": {
   "codemirror_mode": {
    "name": "ipython",
    "version": 3
   },
   "file_extension": ".py",
   "mimetype": "text/x-python",
   "name": "python",
   "nbconvert_exporter": "python",
   "pygments_lexer": "ipython3",
   "version": "3.7.3"
  }
 },
 "nbformat": 4,
 "nbformat_minor": 2
}
